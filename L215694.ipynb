{
  "nbformat": 4,
  "nbformat_minor": 0,
  "metadata": {
    "colab": {
      "provenance": [],
      "collapsed_sections": []
    },
    "kernelspec": {
      "name": "python3",
      "display_name": "Python 3"
    },
    "language_info": {
      "name": "python"
    }
  },
  "cells": [
    {
      "cell_type": "markdown",
      "source": [
        "# Introduction To Data Science – Assignment 1\n",
        "\n",
        "---\n",
        "\n",
        "### Sections A – B – C – D\n",
        "\n",
        "---\n",
        "\n",
        "***Instructions***\n",
        "\n",
        "Due Date: Sunday 18th September 2022 – 11:59PM\n",
        "\n",
        "Name the file in the format Lyyxxxx and save it as .ipynb (e.g. L201234.ipynb)\n",
        "\n",
        "Submission will be taken on **GitHub and Google Classroom (submit the .ipynb file)** - Instructions to upload onto GitHub are provided in the link https://docs.google.com/document/d/1BR1ULOGeGWJVU6Rr6Qty1FR-quVRZyRvQGII6nEs-wo/edit?usp=sharing\n",
        "\n",
        "After uploading and submitting the .ipynb file onto Google Classroom, also private comment the link to the GitHub repository.\n",
        "\n",
        "All source files needed to complete this assignment can be found on the following Google Drive link https://drive.google.com/drive/folders/1VrkaVcExGWqilSeh50WZe4gUBjmUiJ9b?usp=sharing\n",
        "\n",
        "TA Emails\n",
        "\n",
        "Section A, C - Muhammad Maarij l192347@lhr.nu.edu.pk\n",
        "\n",
        "Section B, D - Hira Ijaz l192377@lhr.nu.edu.pk\n",
        "\n",
        "Happy Coding 😊\n",
        "\n",
        "---"
      ],
      "metadata": {
        "id": "TWWLTwYZorzC"
      }
    },
    {
      "cell_type": "markdown",
      "source": [
        "---\n",
        "## Question 1\n",
        "---"
      ],
      "metadata": {
        "id": "arB_0r9H0jjC"
      }
    },
    {
      "cell_type": "markdown",
      "source": [
        "Define a procedure called \"check_input\" that takes an input as a square list of lists (2D Matrix of N x N) and returns a boolen \"true\" if the input is valid or \"false\" otherwise, according to the following criteria.\n",
        "\n",
        "1. Each coloumn must contain numbers from between 1 and N, with no duplicates.\n",
        "2. Each row must contain numbers from between 1 and N, with no duplicates."
      ],
      "metadata": {
        "id": "qHPTNDy30n99"
      }
    },
    {
      "cell_type": "code",
      "source": [
        "# define procedure here\n",
        "import numpy as np\n",
        "def check_input(matrix):\n",
        "  for row in matrix:\n",
        "            for item in row:\n",
        "                if type(item) != int:\n",
        "                    return False\n",
        "    \n",
        "      \n",
        "  for row in matrix:\n",
        "      if len(row) != len(set(row)):\n",
        "          return False\n",
        "    \n",
        "     \n",
        "  transpose = np.transpose(matrix)\n",
        "  for col in transpose:\n",
        "      if len(col) != len(set(col)):\n",
        "          return False\n",
        "    \n",
        "  return True\n"
      ],
      "metadata": {
        "id": "S2_Zic322Lt7"
      },
      "execution_count": null,
      "outputs": []
    },
    {
      "cell_type": "code",
      "source": [
        "# run this block to test code after defining the procedure\n",
        "\n",
        "test1 = [[1, 2, 3],\n",
        "        [2, 3, 1],\n",
        "        [3, 1, 2]]\n",
        "\n",
        "test2 = [[1, 2, 3, 4],\n",
        "        [2, 3, 1, 3],\n",
        "        [3, 1, 2, 3],\n",
        "        [4, 4, 4, 4]]\n",
        "\n",
        "test3 = [['a', 'b', 'c'],\n",
        "        ['b', 'c', 'a'],\n",
        "        ['c', 'a', 'b']]\n",
        "\n",
        "print(check_input(test1)) # must return true\n",
        "print(check_input(test2)) # must return false\n",
        "print(check_input(test3)) # must return false"
      ],
      "metadata": {
        "id": "wdL9MWgq2ZbP",
        "outputId": "89704765-3367-48f2-83d8-33255583cd77",
        "colab": {
          "base_uri": "https://localhost:8080/"
        }
      },
      "execution_count": null,
      "outputs": [
        {
          "output_type": "stream",
          "name": "stdout",
          "text": [
            "True\n",
            "False\n",
            "False\n"
          ]
        }
      ]
    },
    {
      "cell_type": "markdown",
      "source": [
        "---\n",
        "## Question 2\n",
        "---"
      ],
      "metadata": {
        "id": "4RVTlnhWqOUC"
      }
    },
    {
      "cell_type": "markdown",
      "source": [
        "**Part A** - Import the file \"StudentMarkSheet.csv\" as a Pandas DataFrame and print the information for the dataframe"
      ],
      "metadata": {
        "id": "Uyc7JPtNt0pR"
      }
    },
    {
      "cell_type": "code",
      "execution_count": null,
      "metadata": {
        "id": "wYrt7e6Xop2P",
        "outputId": "bb50d6a1-78f2-4813-84d9-bd1005f8427c",
        "colab": {
          "base_uri": "https://localhost:8080/"
        }
      },
      "outputs": [
        {
          "output_type": "stream",
          "name": "stdout",
          "text": [
            "<class 'pandas.core.frame.DataFrame'>\n",
            "RangeIndex: 200 entries, 0 to 199\n",
            "Data columns (total 4 columns):\n",
            " #   Column        Non-Null Count  Dtype \n",
            "---  ------        --------------  ----- \n",
            " 0   Student name  200 non-null    object\n",
            " 1   Exam name     199 non-null    object\n",
            " 2   Exam date     200 non-null    object\n",
            " 3   Marks         200 non-null    int64 \n",
            "dtypes: int64(1), object(3)\n",
            "memory usage: 6.4+ KB\n",
            "        Student name  Exam name   Exam date  Marks\n",
            "0       James Walker    Biology    5/6/2016     31\n",
            "1      Velma Clemons    Biology    5/6/2016     43\n",
            "2     Kibo Underwood    Biology    5/6/2016     81\n",
            "3        Louis Mcgee    Biology    5/6/2016     11\n",
            "4       Phyllis Paul    Biology    5/6/2016     18\n",
            "..               ...        ...         ...    ...\n",
            "195       Yen Bowers  Sociology  21/06/2016     52\n",
            "196        Ryan Pena  Sociology  21/06/2016     16\n",
            "197  Portia Hamilton  Sociology  21/06/2016     34\n",
            "198  Sydnee Chambers  Sociology  21/06/2016     76\n",
            "199      Stacy Small  Sociology  21/06/2016     96\n",
            "\n",
            "[200 rows x 4 columns]\n"
          ]
        }
      ],
      "source": [
        "import pandas as pd\n",
        "df = pd.read_csv(\"/StudentMarkSheets.csv\")\n",
        "df.info()\n",
        "print(df)"
      ]
    },
    {
      "cell_type": "markdown",
      "source": [
        "**Part B** - Remove any rows that do not contain all the data. Also print the following information.\n",
        "\n",
        "1. Number of rows before\n",
        "2. Number of rows containing null data\n",
        "3. Number of rows after"
      ],
      "metadata": {
        "id": "jIaMvgcft_i0"
      }
    },
    {
      "cell_type": "code",
      "source": [
        "print(\"Number Of Rows Before : \", df.shape[0])\n",
        "print(\"Number Of Null Rows : \", df.count())\n",
        "print(\"Number Of Rows After : \", len(df))"
      ],
      "metadata": {
        "id": "_ov_SWdxuZUm",
        "outputId": "508025c0-29e0-40aa-eb38-510cd147fde3",
        "colab": {
          "base_uri": "https://localhost:8080/"
        }
      },
      "execution_count": null,
      "outputs": [
        {
          "output_type": "stream",
          "name": "stdout",
          "text": [
            "Number Of Rows Before :  200\n",
            "Number Of Null Rows :  Student name    200\n",
            "Exam name       199\n",
            "Exam date       200\n",
            "Marks           197\n",
            "dtype: int64\n",
            "Number Of Rows After :  200\n"
          ]
        }
      ]
    },
    {
      "cell_type": "markdown",
      "source": [
        "**Part C** - Print all the marks along with the subject for the student named \"James Walker\""
      ],
      "metadata": {
        "id": "2kd9zAX6wkXM"
      }
    },
    {
      "cell_type": "code",
      "source": [
        "print(df[df['Student name']=='James Walker'])"
      ],
      "metadata": {
        "id": "N0HWJN-PwuSo",
        "outputId": "28d2401e-f984-486c-ac85-1bea7219698f",
        "colab": {
          "base_uri": "https://localhost:8080/"
        }
      },
      "execution_count": null,
      "outputs": [
        {
          "output_type": "stream",
          "name": "stdout",
          "text": [
            "     Student name    Exam name   Exam date  Marks\n",
            "0    James Walker      Biology  05/06/2016   31.0\n",
            "42   James Walker    Chemistry  15/06/2016   61.0\n",
            "71   James Walker  Mathematics  29/07/2016   23.0\n",
            "150  James Walker      Physics  10/06/2016  100.0\n",
            "180  James Walker    Sociology  21/06/2016   73.0\n"
          ]
        }
      ]
    },
    {
      "cell_type": "markdown",
      "source": [
        "---\n",
        "## Question 3\n",
        "---"
      ],
      "metadata": {
        "id": "ts8Y1EXmwzhf"
      }
    },
    {
      "cell_type": "markdown",
      "source": [
        "**Part A** - From the DataFrame created in Question 2, calculate the average marks for each subject"
      ],
      "metadata": {
        "id": "PJENm_hpw3GQ"
      }
    },
    {
      "cell_type": "code",
      "source": [
        "Average_Bio=df[df[\"Exam name\"]==\"Biology\"]\n",
        "Average_Bio=Average_Bio[\"Marks\"]\n",
        "B=sum(Average_Bio)/len(Average_Bio)\n",
        "print(\"Average  =\", round(B, 2))\n",
        "Average_chem=df[df[\"Exam name\"]==\"Chemistry\"]\n",
        "Average_chem=Average_chem[\"Marks\"]\n",
        "C=sum(Average_chem)/len(Average_chem)\n",
        "print(\"Average  =\", round(C, 2))\n",
        "Average_math=df[df[\"Exam name\"]==\"Mathematics\"]\n",
        "Average_math=Average_math[\"Marks\"]\n",
        "M=sum(Average_math)/len(Average_math)\n",
        "print(\"Average  =\", round(M, 2))\n",
        "Average_philos=df[df[\"Exam name\"]==\"Philosophy\"]\n",
        "Average_philos=Average_philos[\"Marks\"]\n",
        "P=sum(Average_philos)/len(Average_philos)\n",
        "print(\"Average  =\", round(P, 2))\n",
        "Average_phy=df[df[\"Exam name\"]==\"Physics\"]\n",
        "Average_phy=Average_phy[\"Marks\"]\n",
        "p=sum(Average_phy)/len(Average_phy)\n",
        "print(\"Average  =\", round(p, 2))\n",
        "Average_socio=df[df[\"Exam name\"]==\"Sociology\"]\n",
        "Average_socio=Average_socio[\"Marks\"]\n",
        "S=sum(Average_socio)/len(Average_socio)\n",
        "print(\"Average  =\", round(S, 2))\n"
      ],
      "metadata": {
        "id": "AxhCtST5xS3L",
        "outputId": "b2185eef-968c-4a59-d590-c87b58aa9f52",
        "colab": {
          "base_uri": "https://localhost:8080/"
        }
      },
      "execution_count": null,
      "outputs": [
        {
          "output_type": "stream",
          "name": "stdout",
          "text": [
            "Average  = 47.89\n",
            "Average  = 51.19\n",
            "Average  = 49.35\n",
            "Average  = 47.89\n",
            "Average  = 51.76\n",
            "Average  = 56.03\n"
          ]
        }
      ]
    },
    {
      "cell_type": "markdown",
      "source": [
        "**Part B** - Using the averages you just calculated, plot a Bar Graph showing the average marks of each subject"
      ],
      "metadata": {
        "id": "NDlaA7hHxUBc"
      }
    },
    {
      "cell_type": "code",
      "source": [
        "import matplotlib.pyplot as plt\n",
        "Exam=['Biology' , 'Chemistry' , 'Mathematics' , 'Philosophy' , 'Physics' , 'Sociology']\n",
        "Average=[B , C , M , P , p , S]\n",
        "plt.title(\"Average Marks\")\n",
        "plt.xlabel(\"Exam name\")\n",
        "plt.ylabel(\"Average\")\n",
        "plt.bar(Exam,Average)\n",
        "plt.show()"
      ],
      "metadata": {
        "id": "LWoPFZBOyyNn",
        "outputId": "af85ac07-4013-4c56-e251-0d58a96adc22",
        "colab": {
          "base_uri": "https://localhost:8080/",
          "height": 295
        }
      },
      "execution_count": null,
      "outputs": [
        {
          "output_type": "display_data",
          "data": {
            "text/plain": [
              "<Figure size 432x288 with 1 Axes>"
            ],
            "image/png": "[encoded data removed]"
          },
          "metadata": {
            "needs_background": "light"
          }
        }
      ]
    },
    {
      "cell_type": "markdown",
      "source": [
        "---\n",
        "## Question 4\n",
        "---"
      ],
      "metadata": {
        "id": "dWlOSOIs6d1R"
      }
    },
    {
      "cell_type": "markdown",
      "source": [
        "**Part A** - Import the file \"CatData.csv\" and preprocess it to remove any null values"
      ],
      "metadata": {
        "id": "b4s-pN4v6kgb"
      }
    },
    {
      "cell_type": "code",
      "source": [
        "import pandas as pd\n",
        "df=pd.read_csv(\"/CatData.csv\")\n",
        "df.head()\n",
        "n=df[df.isnull().any(axis=1)]\n",
        "df=df.dropna()\n",
        "print(df)"
      ],
      "metadata": {
        "id": "mvZ3xrBV9b1s",
        "outputId": "31079705-6a59-4948-ce70-e0d1691ba15b",
        "colab": {
          "base_uri": "https://localhost:8080/"
        }
      },
      "execution_count": null,
      "outputs": [
        {
          "output_type": "stream",
          "name": "stdout",
          "text": [
            "     Tail Length (cm)  Mass (kg)\n",
            "0                18.1      3.750\n",
            "1                18.6      3.800\n",
            "2                19.5      3.250\n",
            "3                19.3      3.450\n",
            "4                19.0      3.650\n",
            "..                ...        ...\n",
            "337              20.7      4.000\n",
            "338              20.2      3.400\n",
            "339              19.3      3.775\n",
            "340              21.0      4.100\n",
            "341              19.8      3.775\n",
            "\n",
            "[342 rows x 2 columns]\n"
          ]
        }
      ]
    },
    {
      "cell_type": "markdown",
      "source": [
        "**Part B** - Identify the independant and dependant variables (comment answer below)"
      ],
      "metadata": {
        "id": "bWxuB3ep9SWA"
      }
    },
    {
      "cell_type": "code",
      "source": [
        "# dependant variable:  \n",
        "# Mass(kg)\n",
        "# independant variable: \n",
        "# Tail Length(cm)"
      ],
      "metadata": {
        "id": "TS9tvuRt9cWr"
      },
      "execution_count": null,
      "outputs": []
    },
    {
      "cell_type": "markdown",
      "source": [
        "**Part C** - Create a linear regression model using sklearn and fit it to the data you just imported\n"
      ],
      "metadata": {
        "id": "xPHVA3cX7uk9"
      }
    },
    {
      "cell_type": "code",
      "source": [
        "import numpy as np\n",
        "import matplotlib.pyplot as plt\n",
        "from sklearn import linear_model\n",
        "num=int(len(df)*0.8)\n",
        "train=df[:num]\n",
        "test=df[num:]\n",
        "regr=linear_model.LinearRegression()\n",
        "train_x=np.array(train[[\"Tail Length (cm)\"]])\n",
        "train_y=np.array(train[[\"Mass (kg)\"]])\n",
        "regr.fit(train_x,train_y)\n"
      ],
      "metadata": {
        "id": "WYVNRotH9cyo",
        "outputId": "bca8d360-dac8-4259-8583-e5e394b7398b",
        "colab": {
          "base_uri": "https://localhost:8080/"
        }
      },
      "execution_count": null,
      "outputs": [
        {
          "output_type": "execute_result",
          "data": {
            "text/plain": [
              "LinearRegression()"
            ]
          },
          "metadata": {},
          "execution_count": 54
        }
      ]
    },
    {
      "cell_type": "markdown",
      "source": [
        "**Part D** - Print the values for slope and y-intercept"
      ],
      "metadata": {
        "id": "0QMipKhb830G"
      }
    },
    {
      "cell_type": "code",
      "source": [
        "coefficients=regr.coef_\n",
        "intercept=regr.intercept_\n",
        "print(\"Slope : \",coefficients)\n",
        "print(\"Intercept : \",intercept)"
      ],
      "metadata": {
        "id": "R7cvi3KB9dJh",
        "outputId": "701b880b-7ae0-4bf0-ef77-8235e2f224dd",
        "colab": {
          "base_uri": "https://localhost:8080/"
        }
      },
      "execution_count": null,
      "outputs": [
        {
          "output_type": "stream",
          "name": "stdout",
          "text": [
            "Slope :  [[0.48913766]]\n",
            "Intercept :  [-5.57328662]\n"
          ]
        }
      ]
    },
    {
      "cell_type": "markdown",
      "source": [
        "**Part E** - Plot a scatter graph of the original data and a regression line on the same figure (example with dummy data shown below)\n",
        "\n",
        "![](https://drive.google.com/uc?export=view&id=1o_NAsNjfx7zAh9m-UjvWB3rta6uraKdY)"
      ],
      "metadata": {
        "id": "IIq-BQYp_i33"
      }
    },
    {
      "cell_type": "code",
      "source": [
        "plt.scatter(train[\"Tail Length (cm)\"],train[\"Mass (kg)\"])\n",
        "plt.plot(train_x,coefficients[0]*train_x+intercept,color=\"black\")\n",
        "plt.xlabel(\"Tail Length (cm)\")\n",
        "plt.ylabel(\"Mass (kg)\")\n",
        "plt.show()"
      ],
      "metadata": {
        "id": "jhz8gTYt_lCn",
        "outputId": "9fbca8e6-cef4-4f41-b754-6d3c9c8793f1",
        "colab": {
          "base_uri": "https://localhost:8080/",
          "height": 279
        }
      },
      "execution_count": null,
      "outputs": [
        {
          "output_type": "display_data",
          "data": {
            "text/plain": [
              "<Figure size 432x288 with 1 Axes>"
            ],
            "image/png": "[encoded data removed]"
          },
          "metadata": {
            "needs_background": "light"
          }
        }
      ]
    }
  ]
}